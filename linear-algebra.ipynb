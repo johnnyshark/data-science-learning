{
  "nbformat": 4,
  "nbformat_minor": 0,
  "metadata": {
    "colab": {
      "name": "linear-algebra.ipynb",
      "provenance": [],
      "collapsed_sections": [],
      "include_colab_link": true
    },
    "kernelspec": {
      "name": "python3",
      "display_name": "Python 3"
    }
  },
  "cells": [
    {
      "cell_type": "markdown",
      "metadata": {
        "id": "view-in-github",
        "colab_type": "text"
      },
      "source": [
        "<a href=\"https://colab.research.google.com/github/johnnyshark/data-science-learning/blob/master/linear-algebra.ipynb\" target=\"_parent\"><img src=\"https://colab.research.google.com/assets/colab-badge.svg\" alt=\"Open In Colab\"/></a>"
      ]
    },
    {
      "cell_type": "code",
      "metadata": {
        "id": "wWvlUoGFQtuJ",
        "colab_type": "code",
        "outputId": "7609a54d-e699-4da6-d7c3-c7866ada1f96",
        "colab": {
          "base_uri": "https://localhost:8080/",
          "height": 35
        }
      },
      "source": [
        "import numpy as np\n",
        "np.__version__"
      ],
      "execution_count": 0,
      "outputs": [
        {
          "output_type": "execute_result",
          "data": {
            "text/plain": [
              "'1.17.4'"
            ]
          },
          "metadata": {
            "tags": []
          },
          "execution_count": 2
        }
      ]
    },
    {
      "cell_type": "markdown",
      "metadata": {
        "id": "cgONcAblNusS",
        "colab_type": "text"
      },
      "source": [
        "1. The Norm Of A Vector\n",
        "\n",
        "![image.png](data:image/png;base64,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)"
      ]
    },
    {
      "cell_type": "code",
      "metadata": {
        "id": "JQ8bxRvBRKdR",
        "colab_type": "code",
        "outputId": "185f0916-f5a0-49e9-9939-9f002840d6f9",
        "colab": {
          "base_uri": "https://localhost:8080/",
          "height": 35
        }
      },
      "source": [
        "v1 = np.array([3,4])\n",
        "v1"
      ],
      "execution_count": 0,
      "outputs": [
        {
          "output_type": "execute_result",
          "data": {
            "text/plain": [
              "array([3, 4])"
            ]
          },
          "metadata": {
            "tags": []
          },
          "execution_count": 8
        }
      ]
    },
    {
      "cell_type": "code",
      "metadata": {
        "id": "x8qjaFMHRQNe",
        "colab_type": "code",
        "outputId": "2b266054-609b-4d2a-8bc5-aa2bb10fb48e",
        "colab": {
          "base_uri": "https://localhost:8080/",
          "height": 35
        }
      },
      "source": [
        "np.linalg.norm(v1)"
      ],
      "execution_count": 0,
      "outputs": [
        {
          "output_type": "execute_result",
          "data": {
            "text/plain": [
              "5.0"
            ]
          },
          "metadata": {
            "tags": []
          },
          "execution_count": 9
        }
      ]
    },
    {
      "cell_type": "code",
      "metadata": {
        "id": "R_bmmgRLS-N8",
        "colab_type": "code",
        "outputId": "902ed944-74a2-438f-e531-1da3a89875b2",
        "colab": {
          "base_uri": "https://localhost:8080/",
          "height": 35
        }
      },
      "source": [
        "v2 = np.array([5,-10,11])\n",
        "np.linalg.norm(v2)"
      ],
      "execution_count": 0,
      "outputs": [
        {
          "output_type": "execute_result",
          "data": {
            "text/plain": [
              "15.684387141358123"
            ]
          },
          "metadata": {
            "tags": []
          },
          "execution_count": 11
        }
      ]
    },
    {
      "cell_type": "markdown",
      "metadata": {
        "id": "00MKE_FXUlPa",
        "colab_type": "text"
      },
      "source": [
        "2. Surface Distance between 2 points\n",
        "\n",
        "\n"
      ]
    },
    {
      "cell_type": "code",
      "metadata": {
        "id": "rxKx7JP0VS6y",
        "colab_type": "code",
        "outputId": "c698f68a-1a28-4904-8fb7-0f46b7c74235",
        "colab": {
          "base_uri": "https://localhost:8080/",
          "height": 35
        }
      },
      "source": [
        "p = np.array([3,0])\n",
        "q = np.array([0,4])\n",
        "\n",
        "np.linalg.norm(p-q)"
      ],
      "execution_count": 0,
      "outputs": [
        {
          "output_type": "execute_result",
          "data": {
            "text/plain": [
              "5.0"
            ]
          },
          "metadata": {
            "tags": []
          },
          "execution_count": 12
        }
      ]
    },
    {
      "cell_type": "markdown",
      "metadata": {
        "id": "ZkmMYFOSXbUr",
        "colab_type": "text"
      },
      "source": [
        "3D"
      ]
    },
    {
      "cell_type": "code",
      "metadata": {
        "id": "k266yCFgXd0T",
        "colab_type": "code",
        "outputId": "d64454ee-8be8-4f70-ab0a-0f62af4b5fc1",
        "colab": {
          "base_uri": "https://localhost:8080/",
          "height": 35
        }
      },
      "source": [
        "p = np.array([3,0,1])\n",
        "q = np.array([0,4,2])\n",
        "\n",
        "np.linalg.norm(p-q)"
      ],
      "execution_count": 0,
      "outputs": [
        {
          "output_type": "execute_result",
          "data": {
            "text/plain": [
              "5.0990195135927845"
            ]
          },
          "metadata": {
            "tags": []
          },
          "execution_count": 13
        }
      ]
    },
    {
      "cell_type": "markdown",
      "metadata": {
        "id": "DglHGJD3YWc7",
        "colab_type": "text"
      },
      "source": [
        "3. Matrix Multiplication"
      ]
    },
    {
      "cell_type": "markdown",
      "metadata": {
        "id": "uF2wh1jCebew",
        "colab_type": "text"
      },
      "source": [
        "![image.png](data:image/png;base64,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)"
      ]
    },
    {
      "cell_type": "code",
      "metadata": {
        "id": "biZiTMM2cE3h",
        "colab_type": "code",
        "outputId": "d9283fe6-e352-47d4-f4ee-a74fc8ed10a8",
        "colab": {
          "base_uri": "https://localhost:8080/",
          "height": 104
        }
      },
      "source": [
        "X = np.array([[5,3],[4,10]])\n",
        "Y = np.array([[1],[3]])\n",
        "print(X,'\\n')\n",
        "print(Y)"
      ],
      "execution_count": 0,
      "outputs": [
        {
          "output_type": "stream",
          "text": [
            "[[ 5  3]\n",
            " [ 4 10]] \n",
            "\n",
            "[[1]\n",
            " [3]]\n"
          ],
          "name": "stdout"
        }
      ]
    },
    {
      "cell_type": "code",
      "metadata": {
        "id": "mlHNsCpgcd_R",
        "colab_type": "code",
        "outputId": "748b3167-c38b-4285-d792-165dd1cc349f",
        "colab": {
          "base_uri": "https://localhost:8080/",
          "height": 52
        }
      },
      "source": [
        "Z = np.dot(X,Y)\n",
        "print(Z)"
      ],
      "execution_count": 0,
      "outputs": [
        {
          "output_type": "stream",
          "text": [
            "[[14]\n",
            " [34]]\n"
          ],
          "name": "stdout"
        }
      ]
    },
    {
      "cell_type": "code",
      "metadata": {
        "id": "LnnX_6badbxA",
        "colab_type": "code",
        "outputId": "f0855829-0ef6-4745-929b-bd43525b25ff",
        "colab": {
          "base_uri": "https://localhost:8080/",
          "height": 35
        }
      },
      "source": [
        "Z.shape"
      ],
      "execution_count": 0,
      "outputs": [
        {
          "output_type": "execute_result",
          "data": {
            "text/plain": [
              "(2, 1)"
            ]
          },
          "metadata": {
            "tags": []
          },
          "execution_count": 25
        }
      ]
    },
    {
      "cell_type": "markdown",
      "metadata": {
        "id": "fdrxooB846-8",
        "colab_type": "text"
      },
      "source": [
        "![image.png](data:image/png;base64,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)"
      ]
    },
    {
      "cell_type": "code",
      "metadata": {
        "id": "rzXx6z5nf8NL",
        "colab_type": "code",
        "outputId": "c2002dca-6613-4b2b-9abc-669c6606f47c",
        "colab": {
          "base_uri": "https://localhost:8080/",
          "height": 121
        }
      },
      "source": [
        "X = np.array([[4,-2,6],\n",
        "              [3,1,0]])\n",
        "Y = np.array([[5,-1,2],\n",
        "              [1,7,1],\n",
        "              [0,2,4]])\n",
        "print(X,'\\n')\n",
        "print(Y)"
      ],
      "execution_count": 0,
      "outputs": [
        {
          "output_type": "stream",
          "text": [
            "[[ 4 -2  6]\n",
            " [ 3  1  0]] \n",
            "\n",
            "[[ 5 -1  2]\n",
            " [ 1  7  1]\n",
            " [ 0  2  4]]\n"
          ],
          "name": "stdout"
        }
      ]
    },
    {
      "cell_type": "code",
      "metadata": {
        "id": "drPz5IH0v_9T",
        "colab_type": "code",
        "outputId": "44c8503d-3ef1-411f-a63c-bf7f849fe947",
        "colab": {
          "base_uri": "https://localhost:8080/",
          "height": 52
        }
      },
      "source": [
        "Z = np.dot(X,Y)\n",
        "print(Z)"
      ],
      "execution_count": 0,
      "outputs": [
        {
          "output_type": "stream",
          "text": [
            "[[18 -6 30]\n",
            " [16  4  7]]\n"
          ],
          "name": "stdout"
        }
      ]
    },
    {
      "cell_type": "markdown",
      "metadata": {
        "id": "jegp43ur6gt0",
        "colab_type": "text"
      },
      "source": [
        "4. Determinant Of A Matrix\n"
      ]
    },
    {
      "cell_type": "code",
      "metadata": {
        "id": "f3naleXs63IN",
        "colab_type": "code",
        "outputId": "c94e1688-e3a1-4559-a76d-4e25b4ca1b28",
        "colab": {
          "base_uri": "https://localhost:8080/",
          "height": 35
        }
      },
      "source": [
        "A = np.array([[2,4],[-1,3]])\n",
        "np.linalg.det(A)"
      ],
      "execution_count": 0,
      "outputs": [
        {
          "output_type": "execute_result",
          "data": {
            "text/plain": [
              "9.999999999999998"
            ]
          },
          "metadata": {
            "tags": []
          },
          "execution_count": 32
        }
      ]
    },
    {
      "cell_type": "code",
      "metadata": {
        "id": "xSGTAqli8adL",
        "colab_type": "code",
        "outputId": "4485904e-9cb3-48c1-bd54-200a4b6de2c7",
        "colab": {
          "base_uri": "https://localhost:8080/",
          "height": 35
        }
      },
      "source": [
        "round(np.linalg.det(A))"
      ],
      "execution_count": 0,
      "outputs": [
        {
          "output_type": "execute_result",
          "data": {
            "text/plain": [
              "10.0"
            ]
          },
          "metadata": {
            "tags": []
          },
          "execution_count": 33
        }
      ]
    },
    {
      "cell_type": "markdown",
      "metadata": {
        "id": "A_M5p7Eq_OPN",
        "colab_type": "text"
      },
      "source": [
        "5. Trace Of A Matrix\n"
      ]
    },
    {
      "cell_type": "markdown",
      "metadata": {
        "id": "ZnjcS4Xr_Xa1",
        "colab_type": "text"
      },
      "source": [
        "![image.png](data:image/png;base64,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)"
      ]
    },
    {
      "cell_type": "code",
      "metadata": {
        "id": "dmhODu0j_2TN",
        "colab_type": "code",
        "outputId": "c663a458-7e3d-4acb-a85f-42b192b3bb67",
        "colab": {
          "base_uri": "https://localhost:8080/",
          "height": 35
        }
      },
      "source": [
        "A = np.array([[-2,4],[1,6]])\n",
        "np.trace(A)"
      ],
      "execution_count": 0,
      "outputs": [
        {
          "output_type": "execute_result",
          "data": {
            "text/plain": [
              "4"
            ]
          },
          "metadata": {
            "tags": []
          },
          "execution_count": 34
        }
      ]
    },
    {
      "cell_type": "markdown",
      "metadata": {
        "id": "rrzLEFLkARy4",
        "colab_type": "text"
      },
      "source": [
        "6. Identity Matrix"
      ]
    },
    {
      "cell_type": "markdown",
      "metadata": {
        "id": "sFHQoPu0AVkv",
        "colab_type": "text"
      },
      "source": [
        "![image.png](data:image/png;base64,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)"
      ]
    },
    {
      "cell_type": "code",
      "metadata": {
        "id": "HwZLmXcOAw3t",
        "colab_type": "code",
        "outputId": "7b594122-640e-416a-dfab-16a9b8eefb86",
        "colab": {
          "base_uri": "https://localhost:8080/",
          "height": 69
        }
      },
      "source": [
        "np.eye(3)"
      ],
      "execution_count": 0,
      "outputs": [
        {
          "output_type": "execute_result",
          "data": {
            "text/plain": [
              "array([[1., 0., 0.],\n",
              "       [0., 1., 0.],\n",
              "       [0., 0., 1.]])"
            ]
          },
          "metadata": {
            "tags": []
          },
          "execution_count": 35
        }
      ]
    },
    {
      "cell_type": "code",
      "metadata": {
        "id": "7C2P8QOUBEIL",
        "colab_type": "code",
        "outputId": "ca9eb551-e58d-45eb-b7e3-b505b11e449a",
        "colab": {
          "base_uri": "https://localhost:8080/",
          "height": 69
        }
      },
      "source": [
        "np.eye(3,dtype='int')"
      ],
      "execution_count": 0,
      "outputs": [
        {
          "output_type": "execute_result",
          "data": {
            "text/plain": [
              "array([[1, 0, 0],\n",
              "       [0, 1, 0],\n",
              "       [0, 0, 1]])"
            ]
          },
          "metadata": {
            "tags": []
          },
          "execution_count": 36
        }
      ]
    },
    {
      "cell_type": "markdown",
      "metadata": {
        "id": "AXjtQ0iHEEzt",
        "colab_type": "text"
      },
      "source": [
        "7. Invertible Matrix"
      ]
    },
    {
      "cell_type": "markdown",
      "metadata": {
        "id": "BJ95qvEREKrS",
        "colab_type": "text"
      },
      "source": [
        "![image.png](data:image/png;base64,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)"
      ]
    },
    {
      "cell_type": "code",
      "metadata": {
        "id": "Zv5JYPQxGGdj",
        "colab_type": "code",
        "colab": {
          "base_uri": "https://localhost:8080/",
          "height": 52
        },
        "outputId": "228f5f3c-a95a-4452-d0ae-a9046d9fa89e"
      },
      "source": [
        "print(A)"
      ],
      "execution_count": 42,
      "outputs": [
        {
          "output_type": "stream",
          "text": [
            "[[-2  4]\n",
            " [ 1  6]]\n"
          ],
          "name": "stdout"
        }
      ]
    },
    {
      "cell_type": "code",
      "metadata": {
        "id": "9Uce04q-Evux",
        "colab_type": "code",
        "colab": {
          "base_uri": "https://localhost:8080/",
          "height": 52
        },
        "outputId": "98288ea8-1081-4390-dff8-638f524055af"
      },
      "source": [
        "B = np.linalg.inv(A)\n",
        "print(B)"
      ],
      "execution_count": 38,
      "outputs": [
        {
          "output_type": "stream",
          "text": [
            "[[-0.375   0.25  ]\n",
            " [ 0.0625  0.125 ]]\n"
          ],
          "name": "stdout"
        }
      ]
    },
    {
      "cell_type": "code",
      "metadata": {
        "id": "N-6m8Dg-FUSM",
        "colab_type": "code",
        "colab": {
          "base_uri": "https://localhost:8080/",
          "height": 52
        },
        "outputId": "267aa0dd-3876-437d-90be-8738c2b139c3"
      },
      "source": [
        "np.dot(A,B)"
      ],
      "execution_count": 39,
      "outputs": [
        {
          "output_type": "execute_result",
          "data": {
            "text/plain": [
              "array([[1., 0.],\n",
              "       [0., 1.]])"
            ]
          },
          "metadata": {
            "tags": []
          },
          "execution_count": 39
        }
      ]
    },
    {
      "cell_type": "code",
      "metadata": {
        "id": "-EjcJa3tF4F8",
        "colab_type": "code",
        "colab": {
          "base_uri": "https://localhost:8080/",
          "height": 52
        },
        "outputId": "8bbe7553-9987-4f06-9ea6-4e18402b4ad2"
      },
      "source": [
        "np.dot(B,A)"
      ],
      "execution_count": 41,
      "outputs": [
        {
          "output_type": "execute_result",
          "data": {
            "text/plain": [
              "array([[1., 0.],\n",
              "       [0., 1.]])"
            ]
          },
          "metadata": {
            "tags": []
          },
          "execution_count": 41
        }
      ]
    },
    {
      "cell_type": "markdown",
      "metadata": {
        "id": "ERFzY58hGbPY",
        "colab_type": "text"
      },
      "source": [
        "8. Transpose Of A Matrix\n",
        "\n"
      ]
    },
    {
      "cell_type": "code",
      "metadata": {
        "id": "BAwTkINxHB-W",
        "colab_type": "code",
        "colab": {
          "base_uri": "https://localhost:8080/",
          "height": 52
        },
        "outputId": "669aaea9-8d5a-4a7e-b19c-e956e2643993"
      },
      "source": [
        "print(A)"
      ],
      "execution_count": 43,
      "outputs": [
        {
          "output_type": "stream",
          "text": [
            "[[-2  4]\n",
            " [ 1  6]]\n"
          ],
          "name": "stdout"
        }
      ]
    },
    {
      "cell_type": "code",
      "metadata": {
        "id": "u6VWjy1BHDid",
        "colab_type": "code",
        "colab": {
          "base_uri": "https://localhost:8080/",
          "height": 52
        },
        "outputId": "30904543-e1ff-432c-8353-f64948ae2ed3"
      },
      "source": [
        "np.transpose(A)"
      ],
      "execution_count": 44,
      "outputs": [
        {
          "output_type": "execute_result",
          "data": {
            "text/plain": [
              "array([[-2,  1],\n",
              "       [ 4,  6]])"
            ]
          },
          "metadata": {
            "tags": []
          },
          "execution_count": 44
        }
      ]
    },
    {
      "cell_type": "code",
      "metadata": {
        "id": "E3ZaogevHGVF",
        "colab_type": "code",
        "colab": {
          "base_uri": "https://localhost:8080/",
          "height": 52
        },
        "outputId": "aa5cbcc3-bbac-42b2-af7f-05d504c6d468"
      },
      "source": [
        "A.T"
      ],
      "execution_count": 45,
      "outputs": [
        {
          "output_type": "execute_result",
          "data": {
            "text/plain": [
              "array([[-2,  1],\n",
              "       [ 4,  6]])"
            ]
          },
          "metadata": {
            "tags": []
          },
          "execution_count": 45
        }
      ]
    },
    {
      "cell_type": "markdown",
      "metadata": {
        "id": "kQCLx2ZCHeaQ",
        "colab_type": "text"
      },
      "source": [
        "9. Solving Systems Of Equations"
      ]
    },
    {
      "cell_type": "code",
      "metadata": {
        "id": "WWlJ3dH8HwpN",
        "colab_type": "code",
        "colab": {
          "base_uri": "https://localhost:8080/",
          "height": 52
        },
        "outputId": "97697636-117a-4a78-837a-9e36db5dc705"
      },
      "source": [
        "A = np.array([[2,4],[1,-1]])\n",
        "print(A)"
      ],
      "execution_count": 46,
      "outputs": [
        {
          "output_type": "stream",
          "text": [
            "[[ 2  4]\n",
            " [ 1 -1]]\n"
          ],
          "name": "stdout"
        }
      ]
    },
    {
      "cell_type": "code",
      "metadata": {
        "id": "mBSdvbY3LDj9",
        "colab_type": "code",
        "colab": {
          "base_uri": "https://localhost:8080/",
          "height": 52
        },
        "outputId": "752b216c-4cab-4989-b9e3-961390914759"
      },
      "source": [
        "B = np.array([[10],[-1]])\n",
        "print(B)"
      ],
      "execution_count": 49,
      "outputs": [
        {
          "output_type": "stream",
          "text": [
            "[[10]\n",
            " [-1]]\n"
          ],
          "name": "stdout"
        }
      ]
    },
    {
      "cell_type": "code",
      "metadata": {
        "id": "Nc72InbvLIGE",
        "colab_type": "code",
        "colab": {}
      },
      "source": [
        "A_inv = np.linalg.inv(A)\n",
        "X = np.dot(A_inv,B)"
      ],
      "execution_count": 0,
      "outputs": []
    },
    {
      "cell_type": "code",
      "metadata": {
        "id": "dPucxr9kLcmM",
        "colab_type": "code",
        "colab": {
          "base_uri": "https://localhost:8080/",
          "height": 52
        },
        "outputId": "e24724a5-6aaf-4aa4-d484-5fe046ac0a3e"
      },
      "source": [
        "print(X)"
      ],
      "execution_count": 53,
      "outputs": [
        {
          "output_type": "stream",
          "text": [
            "[[1.]\n",
            " [2.]]\n"
          ],
          "name": "stdout"
        }
      ]
    },
    {
      "cell_type": "code",
      "metadata": {
        "id": "WDl6NlyOLttG",
        "colab_type": "code",
        "colab": {
          "base_uri": "https://localhost:8080/",
          "height": 35
        },
        "outputId": "aad227a0-e988-4302-ef53-7d36ac7b488a"
      },
      "source": [
        "X.shape"
      ],
      "execution_count": 54,
      "outputs": [
        {
          "output_type": "execute_result",
          "data": {
            "text/plain": [
              "(2, 1)"
            ]
          },
          "metadata": {
            "tags": []
          },
          "execution_count": 54
        }
      ]
    }
  ]
}